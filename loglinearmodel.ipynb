{
  "nbformat": 4,
  "nbformat_minor": 0,
  "metadata": {
    "colab": {
      "name": "loglinearmodel.ipynb",
      "provenance": [],
      "authorship_tag": "ABX9TyPF1yFqot8wvzJ8zZzKhPI1",
      "include_colab_link": true
    },
    "kernelspec": {
      "name": "python3",
      "display_name": "Python 3"
    }
  },
  "cells": [
    {
      "cell_type": "markdown",
      "metadata": {
        "id": "view-in-github",
        "colab_type": "text"
      },
      "source": [
        "<a href=\"https://colab.research.google.com/github/Gichere/log-Linear-Model-with-Python/blob/master/loglinearmodel.ipynb\" target=\"_parent\"><img src=\"https://colab.research.google.com/assets/colab-badge.svg\" alt=\"Open In Colab\"/></a>"
      ]
    },
    {
      "cell_type": "code",
      "metadata": {
        "id": "h-UPznycddek",
        "colab_type": "code",
        "colab": {}
      },
      "source": [
        "import pandas as pd"
      ],
      "execution_count": 0,
      "outputs": []
    },
    {
      "cell_type": "code",
      "metadata": {
        "id": "SSZNCmuldr9o",
        "colab_type": "code",
        "colab": {}
      },
      "source": [
        "import numpy as np"
      ],
      "execution_count": 0,
      "outputs": []
    },
    {
      "cell_type": "code",
      "metadata": {
        "id": "k12rurh-dueB",
        "colab_type": "code",
        "colab": {}
      },
      "source": [
        "import statsmodels.formula.api as smf"
      ],
      "execution_count": 0,
      "outputs": []
    },
    {
      "cell_type": "code",
      "metadata": {
        "id": "s561nvYEd09a",
        "colab_type": "code",
        "colab": {}
      },
      "source": [
        "from sklearn.model_selection import train_test_split"
      ],
      "execution_count": 0,
      "outputs": []
    },
    {
      "cell_type": "code",
      "metadata": {
        "id": "BARATV4ad5vV",
        "colab_type": "code",
        "colab": {}
      },
      "source": [
        "rawbostondata=pd.read_csv('https://raw.githubusercontent.com/PacktWorkshops/The-Data-Science-Workshop/master/Chapter02/Dataset/Boston.csv')"
      ],
      "execution_count": 0,
      "outputs": []
    },
    {
      "cell_type": "code",
      "metadata": {
        "id": "OyiIogqYeFMD",
        "colab_type": "code",
        "colab": {}
      },
      "source": [
        "rawbostondata=rawbostondata.dropna()"
      ],
      "execution_count": 0,
      "outputs": []
    },
    {
      "cell_type": "code",
      "metadata": {
        "id": "cKrHnI4JeS1N",
        "colab_type": "code",
        "colab": {}
      },
      "source": [
        "rawbostondata=rawbostondata.drop_duplicates()"
      ],
      "execution_count": 0,
      "outputs": []
    },
    {
      "cell_type": "code",
      "metadata": {
        "id": "BY6yQ59qeYFj",
        "colab_type": "code",
        "colab": {}
      },
      "source": [
        "renamedBostonData = rawbostondata.rename(columns = {'CRIM':'crimeRatePerCapita', \n",
        "  ' ZN ':'landOver25K_sqft', \n",
        "  'INDUS ':'non-retailLandProptn', \n",
        "  'CHAS':'riverDummy', \n",
        "  'NOX':'nitrixOxide_pp10m', \n",
        "  'RM':'AvgNo.RoomsPerDwelling', \n",
        "  'AGE':'ProptnOwnerOccupied', \n",
        "  'DIS':'weightedDist', \n",
        "  'RAD':'radialHighwaysAccess', \n",
        "  'TAX':'propTaxRate_per10K', \n",
        "  'PTRATIO':'pupilTeacherRatio', \n",
        "  'LSTAT':'pctLowerStatus', \n",
        "  'MEDV':'medianValue_Ks'}) "
      ],
      "execution_count": 0,
      "outputs": []
    },
    {
      "cell_type": "code",
      "metadata": {
        "id": "unMqj8vqeuuQ",
        "colab_type": "code",
        "colab": {}
      },
      "source": [
        "x=renamedBostonData.drop('crimeRatePerCapita', axis=1)"
      ],
      "execution_count": 0,
      "outputs": []
    },
    {
      "cell_type": "code",
      "metadata": {
        "id": "wwWxRx_UfIvg",
        "colab_type": "code",
        "colab": {}
      },
      "source": [
        "y=renamedBostonData[['crimeRatePerCapita']]"
      ],
      "execution_count": 0,
      "outputs": []
    },
    {
      "cell_type": "code",
      "metadata": {
        "id": "yMqcbhorfTNf",
        "colab_type": "code",
        "colab": {}
      },
      "source": [
        "seed=10"
      ],
      "execution_count": 0,
      "outputs": []
    },
    {
      "cell_type": "code",
      "metadata": {
        "id": "Y6WRtQsDfkbZ",
        "colab_type": "code",
        "colab": {}
      },
      "source": [
        "test_data_size=0.3"
      ],
      "execution_count": 0,
      "outputs": []
    },
    {
      "cell_type": "code",
      "metadata": {
        "id": "fVy67yKKfpV8",
        "colab_type": "code",
        "colab": {}
      },
      "source": [
        "x_train, x_test, y_train, y_test=train_test_split(x,y, test_size=test_data_size, random_state=seed)"
      ],
      "execution_count": 0,
      "outputs": []
    },
    {
      "cell_type": "code",
      "metadata": {
        "id": "qLl4U5SsgCLy",
        "colab_type": "code",
        "colab": {}
      },
      "source": [
        "train_data=pd.concat([x_train, y_train], axis=1)"
      ],
      "execution_count": 0,
      "outputs": []
    },
    {
      "cell_type": "code",
      "metadata": {
        "id": "Uge-ZIWCgPsX",
        "colab_type": "code",
        "colab": {}
      },
      "source": [
        "test_data=pd.concat([x_test, y_test],axis=1)"
      ],
      "execution_count": 0,
      "outputs": []
    },
    {
      "cell_type": "code",
      "metadata": {
        "id": "ZfBhoYtZgagI",
        "colab_type": "code",
        "colab": {}
      },
      "source": [
        "logLinearModel=smf.ols(formula='np.log(crimeRatePerCapita)~medianValue_Ks', data=train_data)"
      ],
      "execution_count": 0,
      "outputs": []
    },
    {
      "cell_type": "code",
      "metadata": {
        "id": "40uc_q7NhJS9",
        "colab_type": "code",
        "colab": {}
      },
      "source": [
        "logLinearModelResult=logLinearModel.fit()"
      ],
      "execution_count": 0,
      "outputs": []
    },
    {
      "cell_type": "code",
      "metadata": {
        "id": "Iw5Znk-ghepi",
        "colab_type": "code",
        "colab": {
          "base_uri": "https://localhost:8080/",
          "height": 476
        },
        "outputId": "1a3beb5a-44e9-4124-fcbe-23294b939051"
      },
      "source": [
        "print(logLinearModelResult.summary())"
      ],
      "execution_count": 20,
      "outputs": [
        {
          "output_type": "stream",
          "text": [
            "                                OLS Regression Results                                \n",
            "======================================================================================\n",
            "Dep. Variable:     np.log(crimeRatePerCapita)   R-squared:                       0.238\n",
            "Model:                                    OLS   Adj. R-squared:                  0.236\n",
            "Method:                         Least Squares   F-statistic:                     109.9\n",
            "Date:                        Fri, 10 Apr 2020   Prob (F-statistic):           1.48e-22\n",
            "Time:                                09:57:54   Log-Likelihood:                -727.67\n",
            "No. Observations:                         354   AIC:                             1459.\n",
            "Df Residuals:                             352   BIC:                             1467.\n",
            "Df Model:                                   1                                         \n",
            "Covariance Type:                    nonrobust                                         \n",
            "==================================================================================\n",
            "                     coef    std err          t      P>|t|      [0.025      0.975]\n",
            "----------------------------------------------------------------------------------\n",
            "Intercept          1.9107      0.271      7.062      0.000       1.379       2.443\n",
            "medianValue_Ks    -0.1198      0.011    -10.482      0.000      -0.142      -0.097\n",
            "==============================================================================\n",
            "Omnibus:                       11.420   Durbin-Watson:                   1.907\n",
            "Prob(Omnibus):                  0.003   Jarque-Bera (JB):               10.764\n",
            "Skew:                           0.376   Prob(JB):                      0.00460\n",
            "Kurtosis:                       2.594   Cond. No.                         63.7\n",
            "==============================================================================\n",
            "\n",
            "Warnings:\n",
            "[1] Standard Errors assume that the covariance matrix of the errors is correctly specified.\n"
          ],
          "name": "stdout"
        }
      ]
    },
    {
      "cell_type": "code",
      "metadata": {
        "id": "bMB9WV6khkD7",
        "colab_type": "code",
        "colab": {}
      },
      "source": [
        ""
      ],
      "execution_count": 0,
      "outputs": []
    }
  ]
}